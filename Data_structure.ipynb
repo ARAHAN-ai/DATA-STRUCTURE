{
  "nbformat": 4,
  "nbformat_minor": 0,
  "metadata": {
    "colab": {
      "provenance": []
    },
    "kernelspec": {
      "name": "python3",
      "display_name": "Python 3"
    },
    "language_info": {
      "name": "python"
    }
  },
  "cells": [
    {
      "cell_type": "markdown",
      "source": [
        "DATA TYPES AND STRUCTURES"
      ],
      "metadata": {
        "id": "n2XQKcqymATW"
      }
    },
    {
      "cell_type": "markdown",
      "source": [
        "Q1 WHAT ARE DATA STRUCTURES AND WHY ARE THEY IMPORTANT?\n",
        "\n",
        "- Data structures are ways of organizing and storing data in a computer so that it can be used efficiently. They provide a means to manage large amounts of data effectively for various operations.\n",
        "\n",
        "Here's why they're important:\n",
        "\n",
        "*   Efficiency: They allow for efficient access, modification, and deletion of data. Different data structures are optimized for different operations, so choosing the right one can significantly improve performance.\n",
        "*   Organization: They provide a structured way to organize data, making it easier to understand, manage, and maintain.\n",
        "*   Reusability: They can be reused across different applications, saving time and effort in development.\n",
        "*   Abstraction: They provide an abstraction layer, hiding the implementation details and allowing developers to focus on the logical aspects of data manipulation.\n",
        "*   Algorithm Design: They are fundamental to the design and implementation of efficient algorithms. The choice of data structure often dictates the efficiency of an algorithm.\n",
        "\n",
        "In short, data structures are essential for writing efficient and well-organized code, especially when dealing with large datasets.\n",
        "\n",
        "In Python, data structures are fundamental for organizing and storing data. Here's a quick rundown:\n",
        "\n",
        "*   Lists: Ordered, mutable sequences of items.\n",
        "*   Tuples: Ordered, immutable sequences of items.\n",
        "*   Dictionaries: Unordered collections of key-value pairs.\n",
        "*   Sets: Unordered collections of unique items.\n",
        "\n",
        "These structures help you manage and manipulate data efficiently in your Python programs."
      ],
      "metadata": {
        "id": "id68kRypnNK9"
      }
    },
    {
      "cell_type": "markdown",
      "source": [
        "Q2 EXPLAIN THE DIFFERENCE BETWEEN MUTABLE AND IMMUTTABLE DATA TYPES WITH EXAMPLE.\n",
        "\n",
        "- Sure, I can help with that!\n",
        "\n",
        "Mutable Data:\n",
        "\n",
        "*   Mutable data can be changed after it is created.\n",
        "*   Think of it like a container you can add, remove, or change items in.\n",
        "*   Examples include lists, dictionaries, and sets in Python.\n",
        "\n",
        "Immutable Data:\n",
        "\n",
        "*   Immutable data cannot be changed after it is created.\n",
        "*   Think of it like a fixed object; you can't alter its contents.\n",
        "*   Examples include strings, tuples, and numbers (like integers and floats) in Python.\n",
        "\n",
        "So, the core difference is whether you can modify the data after it's initially set up.\n",
        "\n"
      ],
      "metadata": {
        "id": "WPfIQC8xoJwD"
      }
    },
    {
      "cell_type": "markdown",
      "source": [
        "Q3 WHAT ARE MAIN DIFFERENCES BETWEEN LISTS AND TUPLES IN PYTHON?\n",
        "\n",
        "-Lists are mutable (changeable), while tuples are immutable (unchangeable). Lists use [], tuples use ()."
      ],
      "metadata": {
        "id": "AZw9iwFNpoue"
      }
    },
    {
      "cell_type": "markdown",
      "source": [
        "Q4 DESCRIBE HOW DICTINARIES STORE DATA.\n",
        "\n",
        "- Dictionaries in Python store data as key-value pairs. Here's how it works:\n",
        "\n",
        "*   Keys: Each item in a dictionary has a unique key. Keys are used to access the corresponding values. Keys must be immutable data types (like strings, numbers, or tuples).\n",
        "*   Values: Each key is associated with a value. Values can be any data type (mutable or immutable).\n",
        "*   Structure: Dictionaries are unordered collections. They don't store items in a specific sequence like lists or tuples.\n",
        "*   Implementation: Dictionaries are implemented using hash tables. This allows for fast lookups of values based on their keys. When you look up a value using a key, the dictionary uses a hash function to quickly locate the value's storage location.\n",
        "\n",
        "So, you use a key to find the associated value, making dictionaries efficient for looking up data by a specific identifier."
      ],
      "metadata": {
        "id": "VJS19nWFqXgj"
      }
    },
    {
      "cell_type": "markdown",
      "source": [
        "Q5 WHY MIGHT YOU USE A SET INSTEAD OF A LIST IN PYTHON?\n",
        "\n",
        "- You might use a set instead of a list in Python for a few key reasons:\n",
        "\n",
        "*   Uniqueness: Sets automatically store only unique values. If you need to ensure that you have a collection of distinct items, a set is perfect. Adding a duplicate element to a set has no effect.\n",
        "\n",
        "*   Membership Testing: Sets are highly optimized for checking if an item is present. The in operator is very fast with sets. If you frequently need to check if an item exists in a collection, sets are more efficient than lists.\n",
        "\n",
        "*   Mathematical Operations: Sets support mathematical set operations like union, intersection, difference, and symmetric difference. If you need to perform these operations on your data, sets provide built-in methods that make the code concise and efficient.\n",
        "\n",
        "*   Order Doesn't Matter: Sets are unordered collections. If the order of the elements doesn't matter, using a set can be beneficial because it can optimize for uniqueness and membership checks.\n",
        "\n",
        "In summary, use a set when you need to ensure uniqueness, perform fast membership testing, or perform mathematical set operations, and when the order of elements isn't important."
      ],
      "metadata": {
        "id": "-6NrKrJZq1dX"
      }
    },
    {
      "cell_type": "markdown",
      "source": [
        "Q6 WHAT IS A STRING IN PYTHON,AND HOW IS IT DIFFERENT FROM A LIST?\n",
        "\n",
        "- In Python:\n",
        "\n",
        "*   String: A string is an immutable sequence of characters. You define it using single or double quotes (e.g., \"hello\" or 'world').\n",
        "\n",
        "*   List: A list is a mutable sequence of items. Lists can hold items of different data types. You define it using square brackets (e.g., [1, \"apple\", 3.14]).\n",
        "\n",
        "Key differences:\n",
        "\n",
        "*   Mutability: Strings are immutable, meaning you can't change them after creation. Lists are mutable, so you can modify their contents.\n",
        "*   Content: Strings hold characters. Lists can hold any type of data.\n",
        "*   Operations: Strings have string-specific methods (e.g., upper(), replace()). Lists have list-specific methods (e.g., append(), insert())."
      ],
      "metadata": {
        "id": "uQEl_ykZr0uc"
      }
    },
    {
      "cell_type": "markdown",
      "source": [
        "Q7 HOW DO TUPLES ENSURE DATA INTEGRITY IN PYTHON?\n",
        "\n",
        "- Tuples ensure data integrity in Python because they are immutable. Once you create a tuple, you can't change its contents. This immutability provides several benefits for data integrity:\n",
        "\n",
        "*   Prevent Accidental Modification: Because tuples cannot be changed, you can be sure that the data within a tuple will remain constant throughout your program. This prevents accidental modification of data that could lead to errors or unexpected behavior.\n",
        "\n",
        "*   Safe for Use as Dictionary Keys: Since tuples are immutable, they can be used as keys in dictionaries. This is useful when you need to use a composite key (e.g., a combination of two values) to look up data. If the key were mutable, its hash value could change, making it impossible to find the data in the dictionary.\n",
        "\n",
        "*   Thread Safety: In multithreaded environments, tuples are inherently thread-safe. Multiple threads can safely access the same tuple without worrying about data corruption because no thread can modify the tuple's contents.\n",
        "\n",
        "*   Data Consistency: When you pass data around your program, using tuples can help ensure that the data remains consistent. If a function receives a tuple, it knows that the data within it won't be modified by that function.\n",
        "\n",
        "In summary, tuples enhance data integrity by preventing accidental modification, making them safe for use as dictionary keys, ensuring thread safety, and promoting data consistency."
      ],
      "metadata": {
        "id": "0L7xDIqGscTw"
      }
    },
    {
      "cell_type": "markdown",
      "source": [
        "Q8 WHAT IS A HASH TABLE,AND HOW DOES IT RELATE TO DICTIONARIES IN PYTHON?\n",
        "\n",
        "- A hash table is a data structure that stores data in key-value pairs. It uses a hash function to compute an index into an array (the \"hash table\") from which the value can be retrieved. The key is passed to a hash function, which generates an index where the value is stored.\n",
        "\n",
        "In Python, dictionaries are implemented using hash tables. This is why dictionaries have these characteristics:\n",
        "\n",
        "*   Fast Lookups: The hash function allows for very fast lookups because it can quickly calculate the index of the value based on the key.\n",
        "*   Unordered: Dictionaries are unordered because the items are stored based on the hash values, not in any particular order.\n",
        "*   Efficient Storage: Hash tables provide efficient storage because they map keys directly to their values.\n",
        "\n",
        "In short, Python dictionaries use hash tables under the hood to store key-value pairs, enabling fast lookups and efficient storage."
      ],
      "metadata": {
        "id": "iNs6jP6ps5do"
      }
    },
    {
      "cell_type": "markdown",
      "source": [
        "Q9 CAN LISTS CONTAIN DIFFERENT DATA TYPES IN PYTHON?\n",
        "\n",
        "- Yes, lists in Python can contain different data types. For example, a list can hold integers, strings, and even other lists all at the same time."
      ],
      "metadata": {
        "id": "bYJY6BDOtfzx"
      }
    },
    {
      "cell_type": "markdown",
      "source": [
        "Q10 EXPLAIN WHY STRINGS ARE IMMUTABLE IN PYTHON?\n",
        "\n",
        "- Strings in Python are immutable because they're designed to be. This design choice has several benefits:\n",
        "\n",
        "*   Efficiency: Immutability allows Python to optimize string storage and operations. Since strings don't change, Python can often reuse the same string object in multiple places, saving memory.\n",
        "\n",
        "*   Thread Safety: Immutable objects are inherently thread-safe. Multiple threads can safely access the same string without worrying about data corruption because no thread can modify the string's contents.\n",
        "\n",
        "*   Hashing: Because strings are immutable, they can be used as keys in dictionaries. The hash value of a string is computed once and doesn't change, which is essential for dictionary lookups.\n",
        "\n",
        "*   Predictability: Immutability makes strings more predictable. Once a string is created, you know its value won't change, which simplifies debugging and reasoning about your code.\n",
        "\n",
        "In short, strings are immutable in Python for reasons of efficiency, thread safety, hashing, and predictability. This design choice contributes to Python's overall performance and reliability."
      ],
      "metadata": {
        "id": "lsev2BLnuKIP"
      }
    },
    {
      "cell_type": "markdown",
      "source": [
        "Q11 WHAT ADVANTAGES DO DICTIONARIES OFFER OVER LISTS FOR CERTAIN TASK?\n",
        "\n",
        "- Dictionaries offer several advantages over lists for certain tasks in Python:\n",
        "\n",
        "*   Fast lookups: Dictionaries use keys to access values, allowing for very fast lookups, typically in O(1) time complexity on average. Lists, on the other hand, require iterating through elements, which can take O(n) time, where n is the list's length.\n",
        "\n",
        "*   Meaningful indexing: Dictionaries use descriptive keys to store and retrieve data, making code more readable and easier to understand than using integer indices in lists.\n",
        "\n",
        "*   Flexibility: Dictionaries can store data in a more flexible way than lists. You can easily add, remove, and update key-value pairs without having to worry about the order of elements.\n",
        "\n",
        "*   Use cases: Dictionaries are well-suited for representing data where you need to quickly look up values based on unique identifiers, such as:\n",
        "\n",
        "    *   Storing configurations or settings\n",
        "    *   Implementing caches\n",
        "    *   Representing relationships between objects\n",
        "    *   Creating data structures like graphs\n",
        "\n",
        "In summary, dictionaries provide faster lookups, more readable code, greater flexibility, and are well-suited for tasks involving key-value pairs, making them advantageous over lists in various scenarios."
      ],
      "metadata": {
        "id": "uku_6S-ausmD"
      }
    },
    {
      "cell_type": "markdown",
      "source": [
        "Q12 DESCRIBE A SCENARIO WHERE USING TUPLE WOULD BE PREFERABLE OVER A LIST?\n",
        "\n",
        "- A scenario where using a tuple would be preferable over a list in Python is when you need to represent a fixed collection of data that should not be changed after it's created.\n",
        "\n",
        "For instance, imagine you're working with geographical coordinates. A tuple (latitude, longitude) would be a suitable choice to represent a specific location. Since the latitude and longitude of a place are constant, using a tuple communicates that these values shouldn't be altered. This prevents accidental modification, which could introduce errors.\n",
        "\n",
        "Tuples offer several benefits in this context:\n",
        "\n",
        "1.  Immutability: Ensures the coordinates remain unchanged.\n",
        "2.  Performance: Generally, tuples are more memory-efficient.\n",
        "3.  Data Integrity: Guarantees the data's original state.\n",
        "\n",
        "Conversely, using a list [latitude, longitude] would not provide the same level of assurance, potentially allowing unintentional modifications. Therefore, in situations where data immutability is essential, tuples are superior to lists."
      ],
      "metadata": {
        "id": "FxT64bs0v1eV"
      }
    },
    {
      "cell_type": "markdown",
      "source": [
        "Q13 HOW TO SETS HANDLE DUPLICATE VALUES IN PYTHON?\n",
        "\n",
        "- Handling duplicate values in Python involves several approaches, depending on what you want to achieve. Here's the theory behind the main methods:\n",
        "\n",
        "1. Removing Duplicates\n",
        "\n",
        "The primary goal here is to eliminate repeated values, leaving only unique ones.\n",
        "\n",
        "*   Sets: Sets are inherently designed to store only unique elements. When you convert a list (which can contain duplicates) to a set, all duplicate values are automatically removed. The order of elements is not preserved in sets.\n",
        "    *   Theory: Sets use a hash table data structure for efficient membership testing (checking if an element is already in the set). This makes removing duplicates very fast, even for large datasets.\n",
        "\n",
        "*   Dictionaries (for order-preserving removal): Dictionaries in Python 3.7+ maintain the order of insertion. By using a dictionary to store the elements of a list, you can leverage this order-preserving property to remove duplicates.\n",
        "    *   Theory: Dictionaries store key-value pairs. When you create a dictionary from a list, the list elements become the keys. Since keys in a dictionary must be unique, duplicates are automatically eliminated.\n",
        "\n",
        "2. Counting Duplicates\n",
        "\n",
        "Sometimes, you need to know how many times each value appears in a dataset.\n",
        "\n",
        "*   Dictionaries: You can manually iterate through the list and use a dictionary to keep track of the counts. For each element, you check if it's already a key in the dictionary. If it is, you increment its count; otherwise, you add it to the dictionary with a count of 1.\n",
        "    *   Theory: Dictionaries provide a way to associate each unique value with its frequency.\n",
        "\n",
        "*   collections.Counter: The Counter class from the collections module is specifically designed for counting hashable objects. It simplifies the process of counting occurrences.\n",
        "    *   Theory: Counter is built on top of dictionaries and provides a convenient interface for counting items. It efficiently tracks the counts of each unique element in a collection.\n",
        "\n",
        "3. Removing Adjacent Duplicates\n",
        "\n",
        "In some cases, you only want to remove consecutive duplicates while preserving the order of the remaining elements.\n",
        "\n",
        "*   Iteration with comparison: You iterate through the list and compare each element with the previous one (or the last element added to a new list). If the current element is different from the previous one, you add it to a new list.\n",
        "    *   Theory: This method selectively includes elements in the result based on their relationship with their neighbors, effectively removing adjacent duplicates while preserving the original order.\n",
        "\n",
        "Choosing the Right Method\n",
        "\n",
        "The best approach depends on your specific requirements:\n",
        "\n",
        "*   Need unique values, order doesn't matter: Use set().\n",
        "*   Need unique values, preserve original order: Use dict.fromkeys() (Python 3.7+).\n",
        "*   Need to count occurrences: Use collections.Counter or a dictionary.\n",
        "*   Need to remove consecutive duplicates: Iterate and compare with the previous element.\n",
        "\n",
        "Understanding the underlying theory helps you choose the most efficient and appropriate method for handling duplicate values in your Python code."
      ],
      "metadata": {
        "id": "mZRB5cQRxLza"
      }
    },
    {
      "cell_type": "markdown",
      "source": [
        "Q14 HOW DOES THE'IN' KEYWORD  WORK DIFFRENTLY FOR LISTS AND DICTIONARIES?\n",
        "\n",
        "- The \"in\" keyword in Python is used to check for membership, but it behaves differently for lists and dictionaries due to their different underlying structures.\n",
        "\n",
        "Lists:\n",
        "\n",
        "*   How it works: When you use in with a list, Python iterates through the list element by element, comparing each element to the value you're checking for.\n",
        "*   Efficiency: The time complexity of the in operation for lists is O(n), where n is the number of elements in the list. This means that in the worst-case scenario (when the element is not in the list or is at the end), Python might have to check every element in the list.\n",
        "*   Example:\n",
        "\n",
        "    python\n",
        "    my_list = [1, 2, 3, 4, 5]\n",
        "    print(3 in my_list)  # Output: True\n",
        "    print(6 in my_list)  # Output: False\n",
        "    \n",
        "\n",
        "Dictionaries:\n",
        "\n",
        "*   How it works: When you use in with a dictionary, Python checks if the key exists in the dictionary. It doesn't iterate through the values.\n",
        "*   Efficiency: The time complexity of the in operation for dictionaries is O(1) on average (constant time). This is because dictionaries use a hash table implementation. Python calculates a hash value for the key and uses that to quickly locate the key's position in the dictionary.\n",
        "*   Example:\n",
        "\n",
        "    python\n",
        "    my_dict = {\n",
        "        'a': 1,\n",
        "        'b': 2,\n",
        "        'c': 3\n",
        "    }\n",
        "    print('b' in my_dict)  # Output: True (checks for the key 'b')\n",
        "    print(2 in my_dict)  # Output: False (checks for the key 2, not the value)\n",
        "    \n",
        "\n",
        "Key Differences Summarized:\n",
        "\n",
        "| Feature         | Lists                                  | Dictionaries                                      |\n",
        "| --------------- | -------------------------------------- | ------------------------------------------------- |\n",
        "| What it checks  | Element's presence                      | Key's presence                                    |\n",
        "| Time Complexity | O(n) (linear)                          | O(1) (constant on average)                        |\n",
        "| Iteration       | Iterates through elements             | Uses hash table for fast key lookup               |\n",
        "| Checks          | Values                                 | Keys                                              |\n",
        "\n",
        "In essence:\n",
        "\n",
        "*   For lists, in checks if a value exists anywhere in the list (slower).\n",
        "*   For dictionaries, in checks if a key exists in the dictionary (much faster).\n",
        "\n",
        "This difference in efficiency makes dictionaries a better choice when you need to frequently check for the existence of something, especially in larger datasets."
      ],
      "metadata": {
        "id": "2BWHFSjDzU3R"
      }
    },
    {
      "cell_type": "markdown",
      "source": [
        "Q15 CAN YOU MODIFY THE ELEMENTS OF A TUPLE?EXPLAIN WHY OR WHY NOT.\n",
        "\n",
        "- No, you cannot modify the elements of a tuple directly. Tuples are immutable, which means their contents cannot be changed after they are created.\n",
        "\n",
        "Why Tuples Are Immutable:\n",
        "\n",
        "*   Design Choice: Tuples are designed to represent collections of items that should not be altered. This immutability provides certain guarantees about the data.\n",
        "*   Efficiency: Because tuples are immutable, Python can optimize their storage and processing. For example, tuples can be used as keys in dictionaries (since dictionary keys must be immutable), and they can be safely shared across different parts of a program without fear of accidental modification.\n",
        "*   Data Integrity: Immutability helps ensure data integrity. If you have a tuple representing a specific piece of data (like a coordinate point or a record), you can be sure that its values will remain consistent throughout your program.\n",
        "\n",
        "What You Can Do (Workarounds):\n",
        "\n",
        "While you can't directly modify a tuple, you can achieve similar results using these methods:\n",
        "\n",
        "1.  Convert to a List: Convert the tuple to a list, modify the list, and then convert it back to a tuple.\n",
        "\n",
        "    python\n",
        "    my_tuple = (1, 2, 3)\n",
        "    my_list = list(my_tuple)\n",
        "    my_list[0] = 10  # Modify the first element\n",
        "    my_tuple = tuple(my_list)\n",
        "    print(my_tuple)  # Output: (10, 2, 3)\n",
        "    \n",
        "\n",
        "2.  Create a New Tuple: Create a new tuple with the desired modifications.\n",
        "\n",
        "    python\n",
        "    my_tuple = (1, 2, 3)\n",
        "    new_tuple = (10,) + my_tuple[1:]  # Create a new tuple with the first element changed\n",
        "    print(new_tuple)  # Output: (10, 2, 3)\n",
        "    \n",
        "\n",
        "In Summary: Tuples are immutable in Python, meaning their elements cannot be changed after creation. You can work around this by converting to a list, modifying, and converting back, or by creating a new tuple with the desired changes."
      ],
      "metadata": {
        "id": "pjJ020t_0EqH"
      }
    },
    {
      "cell_type": "markdown",
      "source": [
        "Q16 WHAT IS A NESTED DICTIONARY,AND GIVE EXAMPLE OF ITS USE CASE?\n",
        "\n",
        "- A nested dictionary is a dictionary where the values are themselves dictionaries. This allows you to create complex data structures to organize information in a hierarchical manner.\n",
        "\n",
        "Structure:\n",
        "\n",
        "python\n",
        "nested_dict = {\n",
        "    key1: {\n",
        "        subkey1: value1,\n",
        "        subkey2: value2,\n",
        "    },\n",
        "    key2: {\n",
        "        subkey3: value3,\n",
        "        subkey4: value4,\n",
        "    },\n",
        "}\n",
        "\n",
        "\n",
        "Use Case Example: Storing Information About Students and Their Courses\n",
        "\n",
        "Imagine you want to store information about students, including the courses they are taking and their grades. A nested dictionary is perfect for this.\n",
        "\n",
        "python\n",
        "student_data = {\n",
        "    \"Alice\": {\n",
        "        \"courses\": {\n",
        "            \"Math\": 90,\n",
        "            \"Science\": 85,\n",
        "        }\n",
        "    },\n",
        "    \"Bob\": {\n",
        "        \"courses\": {\n",
        "            \"Math\": 78,\n",
        "            \"History\": 92,\n",
        "        }\n",
        "    },\n",
        "}\n",
        "\n",
        "\n",
        "Explanation:\n",
        "\n",
        "*   Outer Dictionary: The outer dictionary (student_data) uses student names (\"Alice\", \"Bob\") as keys.\n",
        "*   Inner Dictionaries: The values associated with each student name are inner dictionaries.\n",
        "*   Inner Dictionaries Structure: Each inner dictionary has a key \"courses\". The value associated with \"courses\" is another dictionary.\n",
        "*   Course Data: The innermost dictionaries store course names (\"Math\", \"Science\", \"History\") as keys, and their corresponding grades (90, 85, 78, 92) as values.\n",
        "\n",
        "Accessing Data:\n",
        "\n",
        "To access a student's grade in a specific course:\n",
        "\n",
        "python\n",
        "alice_math_grade = student_data[\"Alice\"][\"courses\"][\"Math\"]\n",
        "print(alice_math_grade)  # Output: 90\n",
        "\n",
        "\n",
        "Benefits of Using Nested Dictionaries:\n",
        "\n",
        "*   Organization: Organizes data in a logical, hierarchical structure.\n",
        "*   Readability: Makes the code more readable and easier to understand.\n",
        "*   Flexibility: Allows you to represent complex relationships between data elements.\n",
        "*   Scalability: Easily scalable to accommodate more students, courses, or other relevant information.\n",
        "\n",
        "Nested dictionaries are a powerful tool for structuring and managing complex data in Python, providing a flexible and organized way to represent relationships between different pieces of information."
      ],
      "metadata": {
        "id": "GqowTTis7Eg4"
      }
    },
    {
      "cell_type": "markdown",
      "source": [
        "Q17 DESCRIBE THE TIME COMPLEXITY OF ACCESSING ELEMENTS IN A DICTONARY.\n",
        "\n",
        "- The time complexity of accessing elements in a dictionary in Python is typically O(1), which means constant time. This is because dictionaries use a hash table implementation.\n",
        "\n",
        "Here's why:\n",
        "\n",
        "1.  Hashing: When you access an element using its key (e.g., my_dict[\"key\"]), Python uses a hash function to calculate a hash value for the key.\n",
        "\n",
        "2.  Direct Lookup: The hash value is then used to directly locate the element's storage location in the hash table. This lookup process doesn't depend on the number of elements in the dictionary.\n",
        "\n",
        "3.  Constant Time: Because the lookup is direct, the time it takes to access an element remains constant, regardless of how many items are in the dictionary.\n",
        "\n",
        "In Summary:\n",
        "\n",
        "*   Accessing elements in a Python dictionary using a key has a time complexity of O(1).\n",
        "*   This constant-time performance is due to the efficient use of hash tables."
      ],
      "metadata": {
        "id": "YoOO7DKz7wf8"
      }
    },
    {
      "cell_type": "markdown",
      "source": [
        "Q18 IN WHAT situations are lists preferred over dictionaries?\n",
        "\n",
        "- Lists are preferred over dictionaries when you need to maintain the order of elements, allow duplicate values, and perform operations based on the position of elements. They are also more memory-efficient in certain scenarios."
      ],
      "metadata": {
        "id": "I3GBwF998riK"
      }
    },
    {
      "cell_type": "markdown",
      "source": [
        "Q19 WHY ARE DICTIONARIES CONSIDERED UNORDERED AND HOW DOES THAT AFFECT DATA RETRIEVAL?\n",
        "\n",
        "- Dictionaries in Python are considered unordered because they don't store elements in a specific sequence like lists. Instead, they use a mechanism called \"hashing\" to store and retrieve data. Here's how it works and how it affects data retrieval:\n",
        "\n",
        "How Dictionaries Work:\n",
        "\n",
        "1.  Hashing: When you add a key-value pair to a dictionary, Python applies a hash function to the key. This function converts the key into a unique numerical value (the hash).\n",
        "\n",
        "2.  Storage: The hash value is used to determine where the key-value pair is stored in the dictionary's internal storage (often a hash table). The storage location isn't based on the order you added the items.\n",
        "\n",
        "3.  Retrieval: When you want to retrieve a value using a key, Python hashes the key again, gets the hash value, and uses it to quickly locate the corresponding value in the hash table.\n",
        "\n",
        "How Unordered Nature Affects Data Retrieval:\n",
        "\n",
        "1.  No Indexing: Because dictionaries aren't ordered, you can't access elements by index like you can with lists (e.g., my\\_dict\\[0]). You can only access values using their keys (e.g., my\\_dict\\[\"key\"]).\n",
        "\n",
        "2.  Fast Lookup: The unordered nature, combined with hashing, makes dictionary lookups incredibly fast, regardless of the size of the dictionary. The time it takes to find a value doesn't increase significantly as the dictionary grows. This is because the hash function quickly points to the location of the value.\n",
        "\n",
        "3.  Iteration Order: When you iterate through a dictionary (e.g., using a for loop), the order in which the key-value pairs are processed isn't guaranteed to be the same as the order in which you added them. The order might vary depending on the implementation of the dictionary and the specific keys.\n",
        "\n",
        "In Summary:\n",
        "\n",
        "Dictionaries are unordered in Python because they use hashing to store data, which allows for fast retrieval based on keys, but doesn't preserve the order of insertion. This means you can't access elements by index, but lookups are very efficient. The iteration order isn't guaranteed to be the same as the insertion order."
      ],
      "metadata": {
        "id": "ihoaDWQlRE3O"
      }
    },
    {
      "cell_type": "markdown",
      "source": [
        "Q20 EXPLAIN THE DIFFERENCE BETWEEN A LIST AND A DICTIONARY IN TERMS OF DATA RETRIEVAL.\n",
        "\n",
        "- Okay, here's the difference between data retrieval in lists and dictionaries in Python:\n",
        "\n",
        "Lists:\n",
        "\n",
        "*   Retrieval Method: You access elements in a list using their index (position). The index is an integer starting from 0.\n",
        "*   Time Complexity: Retrieving an element by its index in a list has a time complexity of O(1) - constant time. This is because Python can directly calculate the memory location of the element based on its index.\n",
        "*   Use Case: Lists are suitable when you need to access elements based on their position in a sequence.\n",
        "\n",
        "Dictionaries:\n",
        "\n",
        "*   Retrieval Method: You access elements in a dictionary using keys. Keys are unique identifiers associated with each value in the dictionary.\n",
        "*   Time Complexity: Retrieving an element by its key in a dictionary has an average time complexity of O(1) - constant time. This is because dictionaries use hash tables.\n",
        "*   Use Case: Dictionaries are ideal when you need to access elements based on a meaningful identifier (the key) rather than their position. They're great for representing relationships or mappings between data.\n",
        "\n",
        "Key Differences Summarized:\n",
        "\n",
        "| Feature          | List                                     | Dictionary                               |\n",
        "| ---------------- | ---------------------------------------- | ---------------------------------------- |\n",
        "| Access Method    | Index (position)                         | Key                                      |\n",
        "| Time Complexity  | O(1)                                     | O(1) (average case)                      |\n",
        "| Data Organization | Ordered sequence                         | Unordered collection of key-value pairs |\n",
        "| Use Case         | Accessing by position, ordered data     | Accessing by identifier, key-value pairs |\n",
        "\n",
        "In Essence:\n",
        "\n",
        "*   Lists are for ordered sequences where you care about the position of the elements.\n",
        "*   Dictionaries are for associating values with unique keys, allowing for fast retrieval based on those keys."
      ],
      "metadata": {
        "id": "9AUtPjUHShTA"
      }
    },
    {
      "cell_type": "markdown",
      "source": [
        "PRACTICAL QUESTIONS\n"
      ],
      "metadata": {
        "id": "r6zl4QPiTKjy"
      }
    },
    {
      "cell_type": "code",
      "source": [
        "# Q1 WRITE A CODE TO CREATE A STRING WITH YOUR NAME AND PRINT IT\n",
        "\n",
        "- '''python\n",
        "# Create a string with my name\n",
        "my_name = \"arahan\"\n",
        "\n",
        "# Print the string\n",
        "print(my_name)\n",
        "'''"
      ],
      "metadata": {
        "id": "SRdDYVBaTZ4r"
      },
      "execution_count": null,
      "outputs": []
    },
    {
      "cell_type": "code",
      "source": [
        "# Q2 WRITE A CODE TO FIND THE LENGTH OF THE STRING \"HELLO WORLD\".\n",
        "\n",
        "- '''python\n",
        "# Define the string\n",
        "my_string = \"hello world\"\n",
        "\n",
        "# Calculate the length of the string\n",
        "string_length = len(my_string)\n",
        "\n",
        "# Print the length\n",
        "print(string_length)\n",
        "'''\n"
      ],
      "metadata": {
        "id": "mSfqDSppWlak"
      },
      "execution_count": null,
      "outputs": []
    },
    {
      "cell_type": "code",
      "source": [
        "# Q3 WRITE A CODE TO SLICE THE FIRST 3 CHARACTERS FROM THE STRING \"PYTHON PROGRAMMING\".\n",
        "\n",
        "- '''python\n",
        "# Define the string\n",
        "my_string = \"python programming\"\n",
        "\n",
        "# Slice the first 3 characters\n",
        "sliced_string = my_string[:3]\n",
        "\n",
        "# Print the sliced string\n",
        "print(sliced_string)\n",
        "'''"
      ],
      "metadata": {
        "id": "oHuWoi8kXfhR"
      },
      "execution_count": null,
      "outputs": []
    },
    {
      "cell_type": "code",
      "source": [
        "# Q4 WRITE A CODE TO CONVERT THE STRING \"HELLO\" TO UPPERCASE.\n",
        "\n",
        "- '''python\n",
        "# Define the string\n",
        "my_string = \"hello\"\n",
        "\n",
        "# Convert the string to uppercase\n",
        "uppercase_string = my_string.upper()\n",
        "\n",
        "# Print the uppercase string\n",
        "print(uppercase_string)\n",
        "'''"
      ],
      "metadata": {
        "id": "ObyW5_dmZGmS"
      },
      "execution_count": null,
      "outputs": []
    },
    {
      "cell_type": "code",
      "source": [
        "# Q5 WRITE A CODE TO REPLACE THE WORD \"APPLE\" WITH \" ORANGE\" IN THE STRING \"I LIKE APPLE\".\n",
        "\n",
        "- '''python\n",
        "# Define the string\n",
        "my_string = \"i like apple\"\n",
        "\n",
        "# Replace \"apple\" with \"orange\"\n",
        "new_string = my_string.replace(\"apple\", \"orange\")\n",
        "\n",
        "# Print the new string\n",
        "print(new_string)\n",
        "'''"
      ],
      "metadata": {
        "id": "Xq7SRhiDavWL"
      },
      "execution_count": null,
      "outputs": []
    },
    {
      "cell_type": "code",
      "source": [
        "# Q6 WRITE A CODE TO CREATE A LIST WITH NUMBERS 1TO5 AND PRINT IT.\n",
        "\n",
        "- '''python\n",
        "# Create a list with numbers 1 to 5\n",
        "my_list = [1, 2, 3, 4, 5]\n",
        "\n",
        "# Print the list\n",
        "print(my_list)\n",
        "'''"
      ],
      "metadata": {
        "id": "btJJopS6b7Yp"
      },
      "execution_count": null,
      "outputs": []
    },
    {
      "cell_type": "code",
      "source": [
        "# Q7 WRITE A CODE TO APPEND THE NUMBERS 10 TO THE LIST[1,2,3,4].\n",
        "\n",
        "- '''python\n",
        "# Define the list\n",
        "my_list = [1, 2, 3, 4]\n",
        "\n",
        "# Append the number 10 to the list\n",
        "my_list.append(10)\n",
        "\n",
        "# Print the modified list\n",
        "print(my_list)\n",
        "'''"
      ],
      "metadata": {
        "id": "saSAqMmvcnIR"
      },
      "execution_count": null,
      "outputs": []
    },
    {
      "cell_type": "code",
      "source": [
        "# Q8 WRITE A CODE TO REMOVE THE NUMBER 3 FROM THE LIST[1,2,3,4,5].\n",
        "\n",
        "- '''python\n",
        "# Define the list\n",
        "my_list = [1, 2, 3, 4, 5]\n",
        "\n",
        "# Remove the number 3 from the list\n",
        "my_list.remove(3)\n",
        "\n",
        "# Print the modified list\n",
        "print(my_list)\n",
        "'''"
      ],
      "metadata": {
        "id": "CcOwWCY1dMPz"
      },
      "execution_count": null,
      "outputs": []
    },
    {
      "cell_type": "code",
      "source": [
        "# Q9 WRITE A CODE TO ACCESS THE  SECOND ELEMENT IN THE LIST['A','B','C','D'].\n",
        "\n",
        "- '''python\n",
        "# Define the list\n",
        "my_list = ['a', 'b', 'c', 'd']\n",
        "\n",
        "# Access the second element (index 1)\n",
        "second_element = my_list[1]\n",
        "\n",
        "# Print the second element\n",
        "print(second_element)\n",
        "'''"
      ],
      "metadata": {
        "id": "y2KNlNk0drky"
      },
      "execution_count": null,
      "outputs": []
    },
    {
      "cell_type": "code",
      "source": [
        "# Q10 WRITE A CODE TO REVERSE THE LIST [10,20,30,40,50].\n",
        "\n",
        "- '''python\n",
        "# Define the list\n",
        "my_list = [10, 20, 30, 40, 50]\n",
        "\n",
        "# Reverse the list\n",
        "my_list.reverse()\n",
        "\n",
        "# Print the reversed list\n",
        "print(my_list)\n",
        "'''"
      ],
      "metadata": {
        "id": "EuKmHhDXeYvV"
      },
      "execution_count": null,
      "outputs": []
    },
    {
      "cell_type": "code",
      "source": [
        "# Q11 WRITE A CODE TO CREATE A TUPLE WITH THE ELEMENTS 100,200,300 AND PRINT IT.\n",
        "\n",
        "- '''python\n",
        "# Create a tuple with the elements 100, 200, 300\n",
        "my_tuple = (100, 200, 300)\n",
        "\n",
        "# Print the tuple\n",
        "print(my_tuple)\n",
        "'''"
      ],
      "metadata": {
        "id": "S4rJotKnfEL1"
      },
      "execution_count": null,
      "outputs": []
    },
    {
      "cell_type": "code",
      "source": [
        "# Q12 WRITE A CODE TO ACCESS THE SECOND-TO-LAST ELEMENTS OF THE TUPLE('RED','GREEN','BLUE','YELLOW').\n",
        "\n",
        "- '''python\n",
        "# Define the tuple\n",
        "my_tuple = ('red', 'green', 'blue', 'yellow')\n",
        "\n",
        "# Access the second-to-last element (index -2)\n",
        "second_to_last_element = my_tuple[-2]\n",
        "\n",
        "# Print the second-to-last element\n",
        "print(second_to_last_element)\n",
        "'''"
      ],
      "metadata": {
        "id": "eFfsbfkIfnNu"
      },
      "execution_count": null,
      "outputs": []
    },
    {
      "cell_type": "code",
      "source": [
        "# Q13 WRITE A CODE TO FIND THE MINIMUM NUMBER IN THE TUPLE(10,20,5,15).\n",
        "\n",
        "- '''python\n",
        "# Define the tuple\n",
        "my_tuple = (10, 20, 5, 15)\n",
        "\n",
        "# Find the minimum number\n",
        "minimum_number = min(my_tuple)\n",
        "\n",
        "# Print the minimum number\n",
        "print(minimum_number)\n",
        "'''"
      ],
      "metadata": {
        "id": "quPq0q-egdD5"
      },
      "execution_count": null,
      "outputs": []
    },
    {
      "cell_type": "code",
      "source": [
        "# Q14 WRITE A CODE TO FIND THE INDEX OF THE ELEMENT \"CAT\" IN THE TUPLE('DOG','CAT','RABBIT')\n",
        "\n",
        "- '''python\n",
        "# Define the tuple\n",
        "my_tuple = ('dog', 'cat', 'rabbit')\n",
        "\n",
        "# Find the index of \"cat\"\n",
        "index_of_cat = my_tuple.index('cat')\n",
        "\n",
        "# Print the index\n",
        "print(index_of_cat)\n",
        "'''"
      ],
      "metadata": {
        "id": "VQMnrp9qhKpq"
      },
      "execution_count": null,
      "outputs": []
    },
    {
      "cell_type": "code",
      "source": [
        "# Q15 WRITE A CODE TO CREATE A TUPLE CONTAINING THREE DIFFERENT FRUITS AND CHECK IF\"KIWI\" IS IN IT.\n",
        "\n",
        "- '''python\n",
        "# Create a tuple with three different fruits\n",
        "fruits = ('apple', 'banana', 'orange')\n",
        "\n",
        "# Check if \"kiwi\" is in the tuple\n",
        "if 'kiwi' in fruits:\n",
        "    print(\"kiwi is in the tuple\")\n",
        "else:\n",
        "    print(\"kiwi is not in the tuple\")\n",
        "    '''"
      ],
      "metadata": {
        "id": "Y-WAOrOXiqyg"
      },
      "execution_count": null,
      "outputs": []
    },
    {
      "cell_type": "code",
      "source": [
        "# Q16 WRITE A CODE TO CREATE A SET WITH ELEMENTS 'A','B','C' AND PRINT IT .\n",
        "\n",
        "- '''python\n",
        "# Create a set with elements 'a', 'b', 'c'\n",
        "my_set = {'a', 'b', 'c'}\n",
        "\n",
        "# Print the set\n",
        "print(my_set)\n",
        "'''"
      ],
      "metadata": {
        "id": "venglDrQje4B"
      },
      "execution_count": null,
      "outputs": []
    },
    {
      "cell_type": "code",
      "source": [
        "# Q17 WRITE A CODE TO CLEAR ALL ELEMENTS FROM THE SET{1,2,3,4,5}.\n",
        "\n",
        "- '''python\n",
        "# Create a set\n",
        "my_set = {1, 2, 3, 4, 5}\n",
        "\n",
        "# Clear all elements from the set\n",
        "my_set.clear()\n",
        "\n",
        "# Print the set\n",
        "print(my_set)\n",
        "'''"
      ],
      "metadata": {
        "id": "bH7iXBcOkMwA"
      },
      "execution_count": null,
      "outputs": []
    },
    {
      "cell_type": "code",
      "source": [
        "# Q18 WRITE A CODE TO REMOVE THE ELEMENT 4 FROM THE SET{1,2,3,4}.\n",
        "\n",
        "- '''python\n",
        "# Create a set\n",
        "my_set = {1, 2, 3, 4}\n",
        "\n",
        "# Remove the element 4 from the set\n",
        "my_set.remove(4)\n",
        "\n",
        "# Print the set\n",
        "print(my_set)\n",
        "'''"
      ],
      "metadata": {
        "id": "Dwxe2qgplBY2"
      },
      "execution_count": null,
      "outputs": []
    },
    {
      "cell_type": "code",
      "source": [
        "# Q19 WRITE A CODE TO FIND THE UNION OF TWO SETS{1,2,3}AND {3,4,5}.\n",
        "\n",
        "- '''python\n",
        "# Define the first set\n",
        "set1 = {1, 2, 3}\n",
        "\n",
        "# Define the second set\n",
        "set2 = {3, 4, 5}\n",
        "\n",
        "# Find the union of the two sets\n",
        "union_set = set1 | set2  # or set1.union(set2)\n",
        "\n",
        "# Print the union set\n",
        "print(union_set)\n",
        "'''"
      ],
      "metadata": {
        "id": "ijIPdYlYlwnh"
      },
      "execution_count": null,
      "outputs": []
    },
    {
      "cell_type": "code",
      "source": [
        "# Q20 WRITE A CODE TO FIND THE INTERSECTION OF TWO SETS {1,2,3}AND{2,3,4}.\n",
        "\n",
        "-'''python\n",
        "# Define the first set\n",
        "set1 = {1, 2, 3}\n",
        "\n",
        "# Define the second set\n",
        "set2 = {2, 3, 4}\n",
        "\n",
        "# Find the intersection of the two sets\n",
        "intersection_set = set1 & set2  # or set1.intersection(set2)\n",
        "\n",
        "# Print the intersection set\n",
        "print(intersection_set)\n",
        "'''"
      ],
      "metadata": {
        "id": "7Bb3IM0-my6p"
      },
      "execution_count": null,
      "outputs": []
    },
    {
      "cell_type": "code",
      "source": [
        "# Q21 WRITE A CODE TO CREATE A DICTIONARY WITH THE KEYS \"NAME\",\"AGE\"AND\"CITY\" AND PRINT IT.\n",
        "\n",
        "- '''python\n",
        "# Create a dictionary\n",
        "my_dict = {\n",
        "    \"name\": \"arahan\",\n",
        "    \"age\": 19,\n",
        "    \"city\": \"solan\"\n",
        "}\n",
        "\n",
        "# Print the dictionary\n",
        "print(my_dict)\n",
        "'''\n"
      ],
      "metadata": {
        "id": "2qj01MfRompi"
      },
      "execution_count": null,
      "outputs": []
    },
    {
      "cell_type": "code",
      "source": [
        "# Q22 WRITE A CODE TO ADD A NEW KEY-VALUE PAIR\"COUNTRY\":\"USA\"TO DICITONARY{'NAME':'JOHN','AGE':25}.\n",
        "\n",
        "-''' python\n",
        "# Create a dictionary\n",
        "my_dict = {'name': 'john', 'age': 25}\n",
        "\n",
        "# Add a new key-value pair\n",
        "my_dict['country'] = 'usa'\n",
        "\n",
        "# Print the updated dictionary\n",
        "print(my_dict)\n",
        "'''\n"
      ],
      "metadata": {
        "id": "BSmPo0BJp3ue"
      },
      "execution_count": null,
      "outputs": []
    },
    {
      "cell_type": "code",
      "source": [
        "# Q23 WRITE A CODE TO ACCESS THE VALUE ASSOCIATED WITH THE KEY\"NAME\" IN THE DICTIONARY {'NAME':'ALICE','AGE':30}.\n",
        "\n",
        "- '''python\n",
        "# Create a dictionary\n",
        "my_dict = {'name': 'alice', 'age': 30}\n",
        "\n",
        "# Access the value associated with the key \"name\"\n",
        "name = my_dict['name']\n",
        "\n",
        "# Print the value\n",
        "print(name)\n",
        "'''"
      ],
      "metadata": {
        "id": "ZPowVzEHrNJy"
      },
      "execution_count": null,
      "outputs": []
    },
    {
      "cell_type": "code",
      "source": [
        "# Q24 WRITE A CODE TO REMOVE THE KEY\"AGE\" FROM DICTIONARY{'NAME':'BOB','AGE':22,'CITY':'NEW YORK'}.\n",
        "\n",
        "-'''python\n",
        "# Create a dictionary\n",
        "my_dict = {'name': 'bob', 'age': 22, 'city': 'new york'}\n",
        "\n",
        "# Remove the key \"age\"\n",
        "del my_dict['age']\n",
        "\n",
        "# Print the updated dictionary\n",
        "print(my_dict)\n",
        "'''"
      ],
      "metadata": {
        "id": "1jR8YEJTtoOB"
      },
      "execution_count": null,
      "outputs": []
    },
    {
      "cell_type": "code",
      "source": [
        "# Q25 WRITE A CODE TO CHECK IF THE KEY \"CITY\" EXISTS IN THE DICTIONARY {'NAME':'ALICE','CITY':'PARIS'}..\n",
        "\n",
        "- '''python\n",
        "# Create a dictionary\n",
        "my_dict = {'name': 'alice', 'city': 'paris'}\n",
        "\n",
        "# Check if the key \"city\" exists\n",
        "if 'city' in my_dict:\n",
        "    print(\"The key 'city' exists in the dictionary.\")\n",
        "else:\n",
        "    print(\"The key 'city' does not exist in the dictionary.\")\n",
        "'''\n"
      ],
      "metadata": {
        "id": "5D-yWf-Uu-zv"
      },
      "execution_count": null,
      "outputs": []
    },
    {
      "cell_type": "code",
      "source": [
        "# Q26 WRITE A CODE TO CREATE A LIST,A TUPLE,AND A DICTIONARY,AND PRINT THEM ALL.\n",
        "\n",
        "- '''python\n",
        "# Create a list\n",
        "my_list = [1, 2, 3]\n",
        "\n",
        "# Create a tuple\n",
        "my_tuple = (4, 5, 6)\n",
        "\n",
        "# Create a dictionary\n",
        "my_dict = {'name': 'john', 'age': 30}\n",
        "\n",
        "# Print them all\n",
        "print(\"List:\", my_list)\n",
        "print(\"Tuple:\", my_tuple)\n",
        "print(\"Dictionary:\", my_dict)\n",
        "'''"
      ],
      "metadata": {
        "id": "bbCYGpeQy0Fw"
      },
      "execution_count": null,
      "outputs": []
    },
    {
      "cell_type": "code",
      "source": [
        "# Q27 WRITE A CODE TO CREATE A LIST OF 5 RANDOM NUMBERS BETWEEN 1 AND 100,SORT IT IN ASCENDING ORDER,AND PRINT THE RESULT.(REPLACED)\n",
        "\n",
        "-'''python\n",
        "import random\n",
        "\n",
        "# Create a list of 5 random numbers between 1 and 100\n",
        "random_numbers = [random.randint(1, 100) for _ in range(5)]\n",
        "\n",
        "# Sort the list in ascending order\n",
        "random_numbers.sort()\n",
        "\n",
        "# Print the sorted list\n",
        "print(random_numbers)\n",
        "'''"
      ],
      "metadata": {
        "id": "9jEsZ2W7zbV_"
      },
      "execution_count": null,
      "outputs": []
    },
    {
      "cell_type": "code",
      "source": [
        "# Q28 WRITE A CODE TO CREATE A LIST WITH STRINGS AND PRINT THE ELEMENT AT THE THIRD INDEX.\n",
        "\n",
        "- '''python\n",
        "# Create a list of strings\n",
        "my_list = [\"apple\", \"banana\", \"cherry\", \"date\", \"fig\"]\n",
        "\n",
        "# Print the element at the third index (index starts from 0)\n",
        "print(my_list[3])\n",
        "'''"
      ],
      "metadata": {
        "id": "-IHMOuoM0b1B"
      },
      "execution_count": null,
      "outputs": []
    },
    {
      "cell_type": "code",
      "source": [
        "# Q29 WRITE A CODE TO COMBINE TWO DICTIONARIES INTO ONE AND PRINT THE RESULT.\n",
        "\n",
        "- '''python\n",
        "# Define the first dictionary\n",
        "dict1 = {'a': 1, 'b': 2}\n",
        "\n",
        "# Define the second dictionary\n",
        "dict2 = {'c': 3, 'd': 4}\n",
        "\n",
        "# Combine the dictionaries using the update() method\n",
        "dict1.update(dict2)\n",
        "\n",
        "# Print the combined dictionary\n",
        "print(dict1)\n",
        "'''"
      ],
      "metadata": {
        "id": "rsbi63300_vn"
      },
      "execution_count": null,
      "outputs": []
    },
    {
      "cell_type": "code",
      "source": [
        "# Q30 WRITE A CODE TO CONVERT A LIST OF STRINGS INTO A SET.\n",
        "\n",
        "- '''python\n",
        "# Create a list of strings\n",
        "my_list = [\"apple\", \"banana\", \"cherry\", \"apple\"]\n",
        "\n",
        "# Convert the list to a set\n",
        "my_set = set(my_list)\n",
        "\n",
        "# Print the set\n",
        "print(my_set)\n",
        "'''"
      ],
      "metadata": {
        "id": "Xcp26eZK1iV1"
      },
      "execution_count": null,
      "outputs": []
    }
  ]
}